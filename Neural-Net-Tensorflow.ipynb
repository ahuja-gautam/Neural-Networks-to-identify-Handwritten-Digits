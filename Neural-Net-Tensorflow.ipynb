{
 "cells": [
  {
   "cell_type": "code",
   "execution_count": 1,
   "metadata": {},
   "outputs": [
    {
     "name": "stderr",
     "output_type": "stream",
     "text": [
      "C:\\Users\\Gautam\\Anaconda3\\lib\\site-packages\\h5py\\__init__.py:36: FutureWarning: Conversion of the second argument of issubdtype from `float` to `np.floating` is deprecated. In future, it will be treated as `np.float64 == np.dtype(float).type`.\n",
      "  from ._conv import register_converters as _register_converters\n"
     ]
    }
   ],
   "source": [
    "import os\n",
    "os.environ[\"TF_CPP_MIN_LOG_LEVEL\"]=\"3\"\n",
    "import tensorflow as tf\n",
    "from sklearn.preprocessing import OneHotEncoder\n",
    "import matplotlib.pyplot as plt\n",
    "import pandas as pd\n",
    "import numpy as np\n",
    "%matplotlib inline"
   ]
  },
  {
   "cell_type": "code",
   "execution_count": 2,
   "metadata": {},
   "outputs": [],
   "source": [
    "data=pd.read_csv(\"mnist_train.csv\")\n",
    "testdata=pd.read_csv(\"mnist_test.csv\")"
   ]
  },
  {
   "cell_type": "code",
   "execution_count": 3,
   "metadata": {},
   "outputs": [
    {
     "data": {
      "text/plain": [
       "(60000, 785)"
      ]
     },
     "execution_count": 3,
     "metadata": {},
     "output_type": "execute_result"
    }
   ],
   "source": [
    "data.head()\n",
    "data.shape"
   ]
  },
  {
   "cell_type": "code",
   "execution_count": 4,
   "metadata": {},
   "outputs": [
    {
     "data": {
      "text/plain": [
       "array([5, 0, 4, ..., 5, 6, 8], dtype=int64)"
      ]
     },
     "execution_count": 4,
     "metadata": {},
     "output_type": "execute_result"
    }
   ],
   "source": [
    "Xdata=data.iloc[:,1:].values\n",
    "yold=data.iloc[:,0].values\n",
    "yold"
   ]
  },
  {
   "cell_type": "code",
   "execution_count": 16,
   "metadata": {},
   "outputs": [],
   "source": [
    "enc=OneHotEncoder()"
   ]
  },
  {
   "cell_type": "markdown",
   "metadata": {},
   "source": [
    "It is important to OneHot Encode the dataset for classification problems. The softmax with cross entropy function will not work properly otherwise."
   ]
  },
  {
   "cell_type": "code",
   "execution_count": 6,
   "metadata": {},
   "outputs": [
    {
     "name": "stdout",
     "output_type": "stream",
     "text": [
      "[[5]\n",
      " [0]\n",
      " [4]\n",
      " ...\n",
      " [5]\n",
      " [6]\n",
      " [8]]\n"
     ]
    }
   ],
   "source": [
    "y2=yold.reshape(-1,1)\n",
    "print(y2)"
   ]
  },
  {
   "cell_type": "code",
   "execution_count": 7,
   "metadata": {},
   "outputs": [
    {
     "name": "stdout",
     "output_type": "stream",
     "text": [
      "[[0. 0. 0. ... 0. 0. 0.]\n",
      " [1. 0. 0. ... 0. 0. 0.]\n",
      " [0. 0. 0. ... 0. 0. 0.]\n",
      " ...\n",
      " [0. 0. 0. ... 0. 0. 0.]\n",
      " [0. 0. 0. ... 0. 0. 0.]\n",
      " [0. 0. 0. ... 0. 1. 0.]]\n",
      "(60000, 10)\n"
     ]
    },
    {
     "name": "stderr",
     "output_type": "stream",
     "text": [
      "C:\\Users\\Gautam\\Anaconda3\\lib\\site-packages\\sklearn\\preprocessing\\_encoders.py:363: FutureWarning: The handling of integer data will change in version 0.22. Currently, the categories are determined based on the range [0, max(values)], while in the future they will be determined based on the unique values.\n",
      "If you want the future behaviour and silence this warning, you can specify \"categories='auto'\".\n",
      "In case you used a LabelEncoder before this OneHotEncoder to convert the categories to integers, then you can now use the OneHotEncoder directly.\n",
      "  warnings.warn(msg, FutureWarning)\n"
     ]
    }
   ],
   "source": [
    "ydata=enc.fit_transform(y2).toarray()\n",
    "print(ydata)\n",
    "print(ydata.shape)"
   ]
  },
  {
   "cell_type": "markdown",
   "metadata": {},
   "source": [
    "I added the MNIST dataset.\n",
    "\n",
    "X has 784 columns indicating pixel values for an image of (28,28) size.\n",
    "y is one hot encoded and has 10 columns. 0 has the value (1 0 0 0 0 0 0 0 0 0)"
   ]
  },
  {
   "cell_type": "code",
   "execution_count": 8,
   "metadata": {},
   "outputs": [],
   "source": [
    "n_classes=10\n",
    "nodes_hl1=600\n",
    "nodes_hl2=500\n",
    "nodes_hl3=500\n",
    "X=tf.placeholder(tf.float32,shape=[None,784])\n",
    "y=tf.placeholder(tf.float32,shape=[None,n_classes])"
   ]
  },
  {
   "cell_type": "code",
   "execution_count": 9,
   "metadata": {},
   "outputs": [],
   "source": [
    "W1=tf.Variable(tf.truncated_normal([784,nodes_hl1]))\n",
    "b1=tf.Variable(tf.random_normal([nodes_hl1]))\n",
    "y1=tf.nn.sigmoid(tf.matmul(X,W1)+b1)\n",
    "\n",
    "W2=tf.Variable(tf.truncated_normal([nodes_hl1,nodes_hl2]))\n",
    "b2=tf.Variable(tf.random_normal([nodes_hl2]))\n",
    "y2=tf.nn.sigmoid(tf.matmul(y1,W2)+b2)\n",
    "\n",
    "W3=tf.Variable(tf.truncated_normal([nodes_hl2,nodes_hl3]))\n",
    "b3=tf.Variable(tf.random_normal([nodes_hl3]))\n",
    "y3=tf.nn.sigmoid(tf.matmul(y2,W3)+b3)\n",
    "\n",
    "W0=tf.Variable(tf.truncated_normal([nodes_hl3,n_classes]))\n",
    "b0=tf.Variable(tf.random_normal([n_classes]))\n",
    "\n",
    "final_weights=tf.matmul(y3,W0)+b0"
   ]
  },
  {
   "cell_type": "markdown",
   "metadata": {},
   "source": [
    "Created the architecture for the Neural Network. 3 hidden layers with 600 and 500 and 500 nodes.\n",
    "Now we will train the model using an optimizer."
   ]
  },
  {
   "cell_type": "code",
   "execution_count": 17,
   "metadata": {},
   "outputs": [],
   "source": [
    "error=tf.reduce_mean(tf.nn.softmax_cross_entropy_with_logits_v2(logits=final_weights, labels=y))"
   ]
  },
  {
   "cell_type": "code",
   "execution_count": 18,
   "metadata": {},
   "outputs": [],
   "source": [
    "optimizer=tf.train.AdamOptimizer().minimize(error)"
   ]
  },
  {
   "cell_type": "markdown",
   "metadata": {},
   "source": [
    "We use Adam's optimiser to find the weights."
   ]
  },
  {
   "cell_type": "code",
   "execution_count": 12,
   "metadata": {},
   "outputs": [],
   "source": [
    "init=tf.global_variables_initializer()\n",
    "num_epochs=12\n",
    "num_batches=200"
   ]
  },
  {
   "cell_type": "code",
   "execution_count": 13,
   "metadata": {},
   "outputs": [
    {
     "name": "stdout",
     "output_type": "stream",
     "text": [
      "[[0. 0. 0. ... 1. 0. 0.]\n",
      " [0. 0. 1. ... 0. 0. 0.]\n",
      " [0. 1. 0. ... 0. 0. 0.]\n",
      " ...\n",
      " [0. 0. 0. ... 0. 0. 0.]\n",
      " [0. 0. 0. ... 0. 0. 0.]\n",
      " [0. 0. 0. ... 0. 0. 0.]]\n"
     ]
    },
    {
     "name": "stderr",
     "output_type": "stream",
     "text": [
      "C:\\Users\\Gautam\\Anaconda3\\lib\\site-packages\\sklearn\\preprocessing\\_encoders.py:363: FutureWarning: The handling of integer data will change in version 0.22. Currently, the categories are determined based on the range [0, max(values)], while in the future they will be determined based on the unique values.\n",
      "If you want the future behaviour and silence this warning, you can specify \"categories='auto'\".\n",
      "In case you used a LabelEncoder before this OneHotEncoder to convert the categories to integers, then you can now use the OneHotEncoder directly.\n",
      "  warnings.warn(msg, FutureWarning)\n"
     ]
    }
   ],
   "source": [
    "Xtest=testdata.iloc[:,1:].values\n",
    "ytest2=testdata.iloc[:,0].values\n",
    "ytestold=ytest2.reshape(-1,1)\n",
    "ytest=enc.fit_transform(ytestold).toarray()\n",
    "print(ytest)"
   ]
  },
  {
   "cell_type": "code",
   "execution_count": 14,
   "metadata": {},
   "outputs": [
    {
     "name": "stdout",
     "output_type": "stream",
     "text": [
      "epoch 1 completed out of 12 loss= 830.6183335781097\n",
      "accuracy= 0.7094833\n",
      "epoch 2 completed out of 12 loss= 290.0253755748272\n",
      "accuracy= 0.7898667\n",
      "epoch 3 completed out of 12 loss= 213.2094303369522\n",
      "accuracy= 0.8291\n",
      "epoch 4 completed out of 12 loss= 175.77482682466507\n",
      "accuracy= 0.8523167\n",
      "epoch 5 completed out of 12 loss= 150.49979190528393\n",
      "accuracy= 0.8688833\n",
      "epoch 6 completed out of 12 loss= 133.9180570691824\n",
      "accuracy= 0.88138336\n",
      "epoch 7 completed out of 12 loss= 118.94565729796886\n",
      "accuracy= 0.8929333\n",
      "epoch 8 completed out of 12 loss= 108.45357631146908\n",
      "accuracy= 0.9008167\n",
      "epoch 9 completed out of 12 loss= 100.33830081671476\n",
      "accuracy= 0.90815\n",
      "epoch 10 completed out of 12 loss= 93.24249348044395\n",
      "accuracy= 0.9148833\n",
      "epoch 11 completed out of 12 loss= 87.75840762257576\n",
      "accuracy= 0.9172\n",
      "epoch 12 completed out of 12 loss= 83.83372042328119\n",
      "accuracy= 0.9249833\n",
      "percent correct test images identified are: 0.9043\n"
     ]
    }
   ],
   "source": [
    "with tf.Session() as sess:\n",
    "    sess.run(init)\n",
    "    \n",
    "    for epoch in range(num_epochs):\n",
    "        epoch_loss=0\n",
    "        for i in range(0,60000,num_batches):\n",
    "            X_input=Xdata[i:i+num_batches]\n",
    "            y_input=ydata[i:i+num_batches]\n",
    "            _, cost, prediction=sess.run([optimizer,error,final_weights],feed_dict={X:X_input,y:y_input})\n",
    "            epoch_loss+=cost\n",
    "        print (\"epoch\",epoch+1,\"completed out of\",num_epochs, \"loss=\",epoch_loss)\n",
    "        correct=tf.equal(tf.argmax(final_weights,1),tf.argmax(ydata,1))\n",
    "        accuracy=tf.reduce_mean(tf.cast(correct,tf.float32))\n",
    "        print(\"accuracy=\", accuracy.eval(feed_dict={X:Xdata,y:ydata}))\n",
    "    test_prediction=final_weights.eval(feed_dict={X:Xtest,y:ytest})\n",
    "    test_correct=tf.equal(tf.argmax(test_prediction,1),tf.argmax(ytest,1))\n",
    "    test_accuracy=tf.reduce_mean(tf.cast(test_correct,tf.float32))\n",
    "    print(\"percent correct test images identified are:\",test_accuracy.eval(feed_dict={X:Xtest,y:ytest}))\n",
    "           \n",
    "    "
   ]
  },
  {
   "cell_type": "code",
   "execution_count": 15,
   "metadata": {},
   "outputs": [
    {
     "data": {
      "image/png": "[encoded data removed]",
      "text/plain": [
       "<Figure size 432x288 with 1 Axes>"
      ]
     },
     "metadata": {},
     "output_type": "display_data"
    },
    {
     "name": "stdout",
     "output_type": "stream",
     "text": [
      "Predicted Value= 7 \n",
      "\n"
     ]
    },
    {
     "data": {
      "image/png": "[encoded data removed]",
      "text/plain": [
       "<Figure size 432x288 with 1 Axes>"
      ]
     },
     "metadata": {},
     "output_type": "display_data"
    },
    {
     "name": "stdout",
     "output_type": "stream",
     "text": [
      "Predicted Value= 2 \n",
      "\n"
     ]
    },
    {
     "data": {
      "image/png": "[encoded data removed]",
      "text/plain": [
       "<Figure size 432x288 with 1 Axes>"
      ]
     },
     "metadata": {},
     "output_type": "display_data"
    },
    {
     "name": "stdout",
     "output_type": "stream",
     "text": [
      "Predicted Value= 1 \n",
      "\n"
     ]
    },
    {
     "data": {
      "image/png": "[encoded data removed]",
      "text/plain": [
       "<Figure size 432x288 with 1 Axes>"
      ]
     },
     "metadata": {},
     "output_type": "display_data"
    },
    {
     "name": "stdout",
     "output_type": "stream",
     "text": [
      "Predicted Value= 0 \n",
      "\n"
     ]
    },
    {
     "data": {
      "image/png": "[encoded data removed]",
      "text/plain": [
       "<Figure size 432x288 with 1 Axes>"
      ]
     },
     "metadata": {},
     "output_type": "display_data"
    },
    {
     "name": "stdout",
     "output_type": "stream",
     "text": [
      "Predicted Value= 4 \n",
      "\n"
     ]
    },
    {
     "data": {
      "image/png": "[encoded data removed]",
      "text/plain": [
       "<Figure size 432x288 with 1 Axes>"
      ]
     },
     "metadata": {},
     "output_type": "display_data"
    },
    {
     "name": "stdout",
     "output_type": "stream",
     "text": [
      "Predicted Value= 1 \n",
      "\n"
     ]
    },
    {
     "data": {
      "image/png": "[encoded data removed]",
      "text/plain": [
       "<Figure size 432x288 with 1 Axes>"
      ]
     },
     "metadata": {},
     "output_type": "display_data"
    },
    {
     "name": "stdout",
     "output_type": "stream",
     "text": [
      "Predicted Value= 4 \n",
      "\n"
     ]
    },
    {
     "data": {
      "image/png": "[encoded data removed]",
      "text/plain": [
       "<Figure size 432x288 with 1 Axes>"
      ]
     },
     "metadata": {},
     "output_type": "display_data"
    },
    {
     "name": "stdout",
     "output_type": "stream",
     "text": [
      "Predicted Value= 9 \n",
      "\n"
     ]
    },
    {
     "data": {
      "image/png": "[encoded data removed]",
      "text/plain": [
       "<Figure size 432x288 with 1 Axes>"
      ]
     },
     "metadata": {},
     "output_type": "display_data"
    },
    {
     "name": "stdout",
     "output_type": "stream",
     "text": [
      "Predicted Value= 2 \n",
      "\n"
     ]
    },
    {
     "data": {
      "image/png": "[encoded data removed]",
      "text/plain": [
       "<Figure size 432x288 with 1 Axes>"
      ]
     },
     "metadata": {},
     "output_type": "display_data"
    },
    {
     "name": "stdout",
     "output_type": "stream",
     "text": [
      "Predicted Value= 9 \n",
      "\n"
     ]
    }
   ],
   "source": [
    "for i in range(0,10):\n",
    "    plt.imshow(Xtest[i].reshape(28,28))\n",
    "    plt.title(ytest[i].argmax())\n",
    "    plt.show()\n",
    "    print(\"Predicted Value=\", test_prediction[i].argmax(),\"\\n\")"
   ]
  },
  {
   "cell_type": "markdown",
   "metadata": {},
   "source": [
    "Displayed the first 10 images in test dataset to show the predictions. Note that it predicted the 5 as a 2!"
   ]
  },
  {
   "cell_type": "code",
   "execution_count": null,
   "metadata": {},
   "outputs": [],
   "source": []
  }
 ],
 "metadata": {
  "kernelspec": {
   "display_name": "Python 3",
   "language": "python",
   "name": "python3"
  },
  "language_info": {
   "codemirror_mode": {
    "name": "ipython",
    "version": 3
   },
   "file_extension": ".py",
   "mimetype": "text/x-python",
   "name": "python",
   "nbconvert_exporter": "python",
   "pygments_lexer": "ipython3",
   "version": "3.6.5"
  }
 },
 "nbformat": 4,
 "nbformat_minor": 2
}
